{
  "nbformat": 4,
  "nbformat_minor": 0,
  "metadata": {
    "colab": {
      "name": "Task3.ipynb",
      "provenance": []
    },
    "kernelspec": {
      "name": "python3",
      "display_name": "Python 3"
    }
  },
  "cells": [
    {
      "cell_type": "markdown",
      "metadata": {
        "id": "6UkhRNKbz_3Z"
      },
      "source": [
        "## **THE SPARKS FOUNDATION**\n",
        "\n",
        "### TASK 3 - Exploratory Data Analysis on Superstore Data\n",
        "### Objectives:\n",
        "\n",
        "1) To Perform Exploratory Data Analysis\n",
        "\n",
        "2) Find out business problems\n",
        "\n",
        "3) identify key areas for improving profits. \n",
        "\n",
        "### **Name: Ketan Mittal**"
      ]
    },
    {
      "cell_type": "code",
      "metadata": {
        "colab": {
          "base_uri": "https://localhost:8080/"
        },
        "id": "PgfcvD_JUbWL",
        "outputId": "c383ea39-4aaa-4a46-cc3b-56718bf916eb"
      },
      "source": [
        "#mounting the google drive the dataset is present\n",
        "from google.colab import drive\n",
        "drive.mount('/content/gdrive')\n",
        "!ln -s /content/gdrive/My\\ Drive/ /mydrive"
      ],
      "execution_count": null,
      "outputs": [
        {
          "output_type": "stream",
          "text": [
            "Drive already mounted at /content/gdrive; to attempt to forcibly remount, call drive.mount(\"/content/gdrive\", force_remount=True).\n"
          ],
          "name": "stdout"
        }
      ]
    },
    {
      "cell_type": "code",
      "metadata": {
        "id": "VnoNPEZZVlGV"
      },
      "source": [
        "#Importing Libraries\n",
        "import seaborn as sns\n",
        "import numpy as np\n",
        "import pandas as pd\n",
        "import matplotlib.pyplot as plt"
      ],
      "execution_count": null,
      "outputs": []
    },
    {
      "cell_type": "code",
      "metadata": {
        "colab": {
          "base_uri": "https://localhost:8080/"
        },
        "id": "jn9_7ylWV9W9",
        "outputId": "442b7682-7e6e-4c58-8f0c-bbdd876e6920"
      },
      "source": [
        "#reading the dataset\n",
        "dataset = \"/mydrive/SampleSuperstore.csv\"\n",
        "\n",
        "#read_csv in pandas is used to read the csv file\n",
        "data = pd.read_csv(dataset)\n",
        "print(\"Imported the dataset successfully\")"
      ],
      "execution_count": null,
      "outputs": [
        {
          "output_type": "stream",
          "text": [
            "Imported the dataset successfully\n"
          ],
          "name": "stdout"
        }
      ]
    },
    {
      "cell_type": "code",
      "metadata": {
        "colab": {
          "base_uri": "https://localhost:8080/",
          "height": 204
        },
        "id": "cASsdw1VWT52",
        "outputId": "f5531c22-597a-4097-90c0-bb1f5e721b53"
      },
      "source": [
        "data.head() #prints first 5 rows of the dataset"
      ],
      "execution_count": null,
      "outputs": [
        {
          "output_type": "execute_result",
          "data": {
            "text/html": [
              "<div>\n",
              "<style scoped>\n",
              "    .dataframe tbody tr th:only-of-type {\n",
              "        vertical-align: middle;\n",
              "    }\n",
              "\n",
              "    .dataframe tbody tr th {\n",
              "        vertical-align: top;\n",
              "    }\n",
              "\n",
              "    .dataframe thead th {\n",
              "        text-align: right;\n",
              "    }\n",
              "</style>\n",
              "<table border=\"1\" class=\"dataframe\">\n",
              "  <thead>\n",
              "    <tr style=\"text-align: right;\">\n",
              "      <th></th>\n",
              "      <th>Ship Mode</th>\n",
              "      <th>Segment</th>\n",
              "      <th>Country</th>\n",
              "      <th>City</th>\n",
              "      <th>State</th>\n",
              "      <th>Postal Code</th>\n",
              "      <th>Region</th>\n",
              "      <th>Category</th>\n",
              "      <th>Sub-Category</th>\n",
              "      <th>Sales</th>\n",
              "      <th>Quantity</th>\n",
              "      <th>Discount</th>\n",
              "      <th>Profit</th>\n",
              "    </tr>\n",
              "  </thead>\n",
              "  <tbody>\n",
              "    <tr>\n",
              "      <th>0</th>\n",
              "      <td>Second Class</td>\n",
              "      <td>Consumer</td>\n",
              "      <td>United States</td>\n",
              "      <td>Henderson</td>\n",
              "      <td>Kentucky</td>\n",
              "      <td>42420</td>\n",
              "      <td>South</td>\n",
              "      <td>Furniture</td>\n",
              "      <td>Bookcases</td>\n",
              "      <td>261.9600</td>\n",
              "      <td>2</td>\n",
              "      <td>0.00</td>\n",
              "      <td>41.9136</td>\n",
              "    </tr>\n",
              "    <tr>\n",
              "      <th>1</th>\n",
              "      <td>Second Class</td>\n",
              "      <td>Consumer</td>\n",
              "      <td>United States</td>\n",
              "      <td>Henderson</td>\n",
              "      <td>Kentucky</td>\n",
              "      <td>42420</td>\n",
              "      <td>South</td>\n",
              "      <td>Furniture</td>\n",
              "      <td>Chairs</td>\n",
              "      <td>731.9400</td>\n",
              "      <td>3</td>\n",
              "      <td>0.00</td>\n",
              "      <td>219.5820</td>\n",
              "    </tr>\n",
              "    <tr>\n",
              "      <th>2</th>\n",
              "      <td>Second Class</td>\n",
              "      <td>Corporate</td>\n",
              "      <td>United States</td>\n",
              "      <td>Los Angeles</td>\n",
              "      <td>California</td>\n",
              "      <td>90036</td>\n",
              "      <td>West</td>\n",
              "      <td>Office Supplies</td>\n",
              "      <td>Labels</td>\n",
              "      <td>14.6200</td>\n",
              "      <td>2</td>\n",
              "      <td>0.00</td>\n",
              "      <td>6.8714</td>\n",
              "    </tr>\n",
              "    <tr>\n",
              "      <th>3</th>\n",
              "      <td>Standard Class</td>\n",
              "      <td>Consumer</td>\n",
              "      <td>United States</td>\n",
              "      <td>Fort Lauderdale</td>\n",
              "      <td>Florida</td>\n",
              "      <td>33311</td>\n",
              "      <td>South</td>\n",
              "      <td>Furniture</td>\n",
              "      <td>Tables</td>\n",
              "      <td>957.5775</td>\n",
              "      <td>5</td>\n",
              "      <td>0.45</td>\n",
              "      <td>-383.0310</td>\n",
              "    </tr>\n",
              "    <tr>\n",
              "      <th>4</th>\n",
              "      <td>Standard Class</td>\n",
              "      <td>Consumer</td>\n",
              "      <td>United States</td>\n",
              "      <td>Fort Lauderdale</td>\n",
              "      <td>Florida</td>\n",
              "      <td>33311</td>\n",
              "      <td>South</td>\n",
              "      <td>Office Supplies</td>\n",
              "      <td>Storage</td>\n",
              "      <td>22.3680</td>\n",
              "      <td>2</td>\n",
              "      <td>0.20</td>\n",
              "      <td>2.5164</td>\n",
              "    </tr>\n",
              "  </tbody>\n",
              "</table>\n",
              "</div>"
            ],
            "text/plain": [
              "        Ship Mode    Segment        Country  ... Quantity Discount    Profit\n",
              "0    Second Class   Consumer  United States  ...        2     0.00   41.9136\n",
              "1    Second Class   Consumer  United States  ...        3     0.00  219.5820\n",
              "2    Second Class  Corporate  United States  ...        2     0.00    6.8714\n",
              "3  Standard Class   Consumer  United States  ...        5     0.45 -383.0310\n",
              "4  Standard Class   Consumer  United States  ...        2     0.20    2.5164\n",
              "\n",
              "[5 rows x 13 columns]"
            ]
          },
          "metadata": {
            "tags": []
          },
          "execution_count": 45
        }
      ]
    },
    {
      "cell_type": "code",
      "metadata": {
        "colab": {
          "base_uri": "https://localhost:8080/",
          "height": 204
        },
        "id": "7TAhZdZXWang",
        "outputId": "3b8934f5-ee10-4929-e9e7-5ff55bdfc4d8"
      },
      "source": [
        "data.tail() #prints last 5 rows of the dataset"
      ],
      "execution_count": null,
      "outputs": [
        {
          "output_type": "execute_result",
          "data": {
            "text/html": [
              "<div>\n",
              "<style scoped>\n",
              "    .dataframe tbody tr th:only-of-type {\n",
              "        vertical-align: middle;\n",
              "    }\n",
              "\n",
              "    .dataframe tbody tr th {\n",
              "        vertical-align: top;\n",
              "    }\n",
              "\n",
              "    .dataframe thead th {\n",
              "        text-align: right;\n",
              "    }\n",
              "</style>\n",
              "<table border=\"1\" class=\"dataframe\">\n",
              "  <thead>\n",
              "    <tr style=\"text-align: right;\">\n",
              "      <th></th>\n",
              "      <th>Ship Mode</th>\n",
              "      <th>Segment</th>\n",
              "      <th>Country</th>\n",
              "      <th>City</th>\n",
              "      <th>State</th>\n",
              "      <th>Postal Code</th>\n",
              "      <th>Region</th>\n",
              "      <th>Category</th>\n",
              "      <th>Sub-Category</th>\n",
              "      <th>Sales</th>\n",
              "      <th>Quantity</th>\n",
              "      <th>Discount</th>\n",
              "      <th>Profit</th>\n",
              "    </tr>\n",
              "  </thead>\n",
              "  <tbody>\n",
              "    <tr>\n",
              "      <th>9989</th>\n",
              "      <td>Second Class</td>\n",
              "      <td>Consumer</td>\n",
              "      <td>United States</td>\n",
              "      <td>Miami</td>\n",
              "      <td>Florida</td>\n",
              "      <td>33180</td>\n",
              "      <td>South</td>\n",
              "      <td>Furniture</td>\n",
              "      <td>Furnishings</td>\n",
              "      <td>25.248</td>\n",
              "      <td>3</td>\n",
              "      <td>0.2</td>\n",
              "      <td>4.1028</td>\n",
              "    </tr>\n",
              "    <tr>\n",
              "      <th>9990</th>\n",
              "      <td>Standard Class</td>\n",
              "      <td>Consumer</td>\n",
              "      <td>United States</td>\n",
              "      <td>Costa Mesa</td>\n",
              "      <td>California</td>\n",
              "      <td>92627</td>\n",
              "      <td>West</td>\n",
              "      <td>Furniture</td>\n",
              "      <td>Furnishings</td>\n",
              "      <td>91.960</td>\n",
              "      <td>2</td>\n",
              "      <td>0.0</td>\n",
              "      <td>15.6332</td>\n",
              "    </tr>\n",
              "    <tr>\n",
              "      <th>9991</th>\n",
              "      <td>Standard Class</td>\n",
              "      <td>Consumer</td>\n",
              "      <td>United States</td>\n",
              "      <td>Costa Mesa</td>\n",
              "      <td>California</td>\n",
              "      <td>92627</td>\n",
              "      <td>West</td>\n",
              "      <td>Technology</td>\n",
              "      <td>Phones</td>\n",
              "      <td>258.576</td>\n",
              "      <td>2</td>\n",
              "      <td>0.2</td>\n",
              "      <td>19.3932</td>\n",
              "    </tr>\n",
              "    <tr>\n",
              "      <th>9992</th>\n",
              "      <td>Standard Class</td>\n",
              "      <td>Consumer</td>\n",
              "      <td>United States</td>\n",
              "      <td>Costa Mesa</td>\n",
              "      <td>California</td>\n",
              "      <td>92627</td>\n",
              "      <td>West</td>\n",
              "      <td>Office Supplies</td>\n",
              "      <td>Paper</td>\n",
              "      <td>29.600</td>\n",
              "      <td>4</td>\n",
              "      <td>0.0</td>\n",
              "      <td>13.3200</td>\n",
              "    </tr>\n",
              "    <tr>\n",
              "      <th>9993</th>\n",
              "      <td>Second Class</td>\n",
              "      <td>Consumer</td>\n",
              "      <td>United States</td>\n",
              "      <td>Westminster</td>\n",
              "      <td>California</td>\n",
              "      <td>92683</td>\n",
              "      <td>West</td>\n",
              "      <td>Office Supplies</td>\n",
              "      <td>Appliances</td>\n",
              "      <td>243.160</td>\n",
              "      <td>2</td>\n",
              "      <td>0.0</td>\n",
              "      <td>72.9480</td>\n",
              "    </tr>\n",
              "  </tbody>\n",
              "</table>\n",
              "</div>"
            ],
            "text/plain": [
              "           Ship Mode   Segment        Country  ... Quantity Discount   Profit\n",
              "9989    Second Class  Consumer  United States  ...        3      0.2   4.1028\n",
              "9990  Standard Class  Consumer  United States  ...        2      0.0  15.6332\n",
              "9991  Standard Class  Consumer  United States  ...        2      0.2  19.3932\n",
              "9992  Standard Class  Consumer  United States  ...        4      0.0  13.3200\n",
              "9993    Second Class  Consumer  United States  ...        2      0.0  72.9480\n",
              "\n",
              "[5 rows x 13 columns]"
            ]
          },
          "metadata": {
            "tags": []
          },
          "execution_count": 46
        }
      ]
    },
    {
      "cell_type": "code",
      "metadata": {
        "colab": {
          "base_uri": "https://localhost:8080/",
          "height": 297
        },
        "id": "0CCm8vS2WoY-",
        "outputId": "fabf0f56-5816-4e2e-9858-230cd6cd74f0"
      },
      "source": [
        "data.describe()"
      ],
      "execution_count": null,
      "outputs": [
        {
          "output_type": "execute_result",
          "data": {
            "text/html": [
              "<div>\n",
              "<style scoped>\n",
              "    .dataframe tbody tr th:only-of-type {\n",
              "        vertical-align: middle;\n",
              "    }\n",
              "\n",
              "    .dataframe tbody tr th {\n",
              "        vertical-align: top;\n",
              "    }\n",
              "\n",
              "    .dataframe thead th {\n",
              "        text-align: right;\n",
              "    }\n",
              "</style>\n",
              "<table border=\"1\" class=\"dataframe\">\n",
              "  <thead>\n",
              "    <tr style=\"text-align: right;\">\n",
              "      <th></th>\n",
              "      <th>Postal Code</th>\n",
              "      <th>Sales</th>\n",
              "      <th>Quantity</th>\n",
              "      <th>Discount</th>\n",
              "      <th>Profit</th>\n",
              "    </tr>\n",
              "  </thead>\n",
              "  <tbody>\n",
              "    <tr>\n",
              "      <th>count</th>\n",
              "      <td>9994.000000</td>\n",
              "      <td>9994.000000</td>\n",
              "      <td>9994.000000</td>\n",
              "      <td>9994.000000</td>\n",
              "      <td>9994.000000</td>\n",
              "    </tr>\n",
              "    <tr>\n",
              "      <th>mean</th>\n",
              "      <td>55190.379428</td>\n",
              "      <td>229.858001</td>\n",
              "      <td>3.789574</td>\n",
              "      <td>0.156203</td>\n",
              "      <td>28.656896</td>\n",
              "    </tr>\n",
              "    <tr>\n",
              "      <th>std</th>\n",
              "      <td>32063.693350</td>\n",
              "      <td>623.245101</td>\n",
              "      <td>2.225110</td>\n",
              "      <td>0.206452</td>\n",
              "      <td>234.260108</td>\n",
              "    </tr>\n",
              "    <tr>\n",
              "      <th>min</th>\n",
              "      <td>1040.000000</td>\n",
              "      <td>0.444000</td>\n",
              "      <td>1.000000</td>\n",
              "      <td>0.000000</td>\n",
              "      <td>-6599.978000</td>\n",
              "    </tr>\n",
              "    <tr>\n",
              "      <th>25%</th>\n",
              "      <td>23223.000000</td>\n",
              "      <td>17.280000</td>\n",
              "      <td>2.000000</td>\n",
              "      <td>0.000000</td>\n",
              "      <td>1.728750</td>\n",
              "    </tr>\n",
              "    <tr>\n",
              "      <th>50%</th>\n",
              "      <td>56430.500000</td>\n",
              "      <td>54.490000</td>\n",
              "      <td>3.000000</td>\n",
              "      <td>0.200000</td>\n",
              "      <td>8.666500</td>\n",
              "    </tr>\n",
              "    <tr>\n",
              "      <th>75%</th>\n",
              "      <td>90008.000000</td>\n",
              "      <td>209.940000</td>\n",
              "      <td>5.000000</td>\n",
              "      <td>0.200000</td>\n",
              "      <td>29.364000</td>\n",
              "    </tr>\n",
              "    <tr>\n",
              "      <th>max</th>\n",
              "      <td>99301.000000</td>\n",
              "      <td>22638.480000</td>\n",
              "      <td>14.000000</td>\n",
              "      <td>0.800000</td>\n",
              "      <td>8399.976000</td>\n",
              "    </tr>\n",
              "  </tbody>\n",
              "</table>\n",
              "</div>"
            ],
            "text/plain": [
              "        Postal Code         Sales     Quantity     Discount       Profit\n",
              "count   9994.000000   9994.000000  9994.000000  9994.000000  9994.000000\n",
              "mean   55190.379428    229.858001     3.789574     0.156203    28.656896\n",
              "std    32063.693350    623.245101     2.225110     0.206452   234.260108\n",
              "min     1040.000000      0.444000     1.000000     0.000000 -6599.978000\n",
              "25%    23223.000000     17.280000     2.000000     0.000000     1.728750\n",
              "50%    56430.500000     54.490000     3.000000     0.200000     8.666500\n",
              "75%    90008.000000    209.940000     5.000000     0.200000    29.364000\n",
              "max    99301.000000  22638.480000    14.000000     0.800000  8399.976000"
            ]
          },
          "metadata": {
            "tags": []
          },
          "execution_count": 47
        }
      ]
    },
    {
      "cell_type": "code",
      "metadata": {
        "colab": {
          "base_uri": "https://localhost:8080/"
        },
        "id": "NT40s4_xWx7R",
        "outputId": "b9671c40-2813-468c-a8c8-97b83b9e3648"
      },
      "source": [
        "data.shape"
      ],
      "execution_count": null,
      "outputs": [
        {
          "output_type": "execute_result",
          "data": {
            "text/plain": [
              "(9994, 13)"
            ]
          },
          "metadata": {
            "tags": []
          },
          "execution_count": 48
        }
      ]
    },
    {
      "cell_type": "code",
      "metadata": {
        "colab": {
          "base_uri": "https://localhost:8080/"
        },
        "id": "0w8-cUqiW1pl",
        "outputId": "ddb77936-d9d0-485e-f18d-3561f95d3315"
      },
      "source": [
        "data.info()"
      ],
      "execution_count": null,
      "outputs": [
        {
          "output_type": "stream",
          "text": [
            "<class 'pandas.core.frame.DataFrame'>\n",
            "RangeIndex: 9994 entries, 0 to 9993\n",
            "Data columns (total 13 columns):\n",
            " #   Column        Non-Null Count  Dtype  \n",
            "---  ------        --------------  -----  \n",
            " 0   Ship Mode     9994 non-null   object \n",
            " 1   Segment       9994 non-null   object \n",
            " 2   Country       9994 non-null   object \n",
            " 3   City          9994 non-null   object \n",
            " 4   State         9994 non-null   object \n",
            " 5   Postal Code   9994 non-null   int64  \n",
            " 6   Region        9994 non-null   object \n",
            " 7   Category      9994 non-null   object \n",
            " 8   Sub-Category  9994 non-null   object \n",
            " 9   Sales         9994 non-null   float64\n",
            " 10  Quantity      9994 non-null   int64  \n",
            " 11  Discount      9994 non-null   float64\n",
            " 12  Profit        9994 non-null   float64\n",
            "dtypes: float64(3), int64(2), object(8)\n",
            "memory usage: 1015.1+ KB\n"
          ],
          "name": "stdout"
        }
      ]
    },
    {
      "cell_type": "code",
      "metadata": {
        "colab": {
          "base_uri": "https://localhost:8080/"
        },
        "id": "cYdDGF0PaJ85",
        "outputId": "ccf0aba5-5901-4db7-8e07-1ee66ff6cb17"
      },
      "source": [
        "#To find all the maximum values of each coloumn\n",
        "data.max()"
      ],
      "execution_count": null,
      "outputs": [
        {
          "output_type": "execute_result",
          "data": {
            "text/plain": [
              "Ship Mode       Standard Class\n",
              "Segment            Home Office\n",
              "Country          United States\n",
              "City                      Yuma\n",
              "State                  Wyoming\n",
              "Postal Code              99301\n",
              "Region                    West\n",
              "Category            Technology\n",
              "Sub-Category            Tables\n",
              "Sales                  22638.5\n",
              "Quantity                    14\n",
              "Discount                   0.8\n",
              "Profit                 8399.98\n",
              "dtype: object"
            ]
          },
          "metadata": {
            "tags": []
          },
          "execution_count": 50
        }
      ]
    },
    {
      "cell_type": "markdown",
      "metadata": {
        "id": "B2--Amtmayk9"
      },
      "source": [
        "## **Data Visualization**"
      ]
    },
    {
      "cell_type": "code",
      "metadata": {
        "colab": {
          "base_uri": "https://localhost:8080/",
          "height": 504
        },
        "id": "8sPcLelmaVBy",
        "outputId": "03cf5c05-5610-497c-fbe6-cccda1a54910"
      },
      "source": [
        "plt.figure(figsize=(10,8))\n",
        "sns.heatmap(data.corr().abs(),cmap='YlOrRd', annot=True)"
      ],
      "execution_count": null,
      "outputs": [
        {
          "output_type": "execute_result",
          "data": {
            "text/plain": [
              "<matplotlib.axes._subplots.AxesSubplot at 0x7ffa9b4196a0>"
            ]
          },
          "metadata": {
            "tags": []
          },
          "execution_count": 51
        },
        {
          "output_type": "display_data",
          "data": {
            "image/png": "[encoded data removed]",
            "text/plain": [
              "<Figure size 720x576 with 2 Axes>"
            ]
          },
          "metadata": {
            "tags": [],
            "needs_background": "light"
          }
        }
      ]
    },
    {
      "cell_type": "markdown",
      "metadata": {
        "id": "941Gl3lTamzE"
      },
      "source": [
        "### **From the above heatmap, we find:**\n",
        "\n",
        "### 1. Sales and profit have good data correlation value i.e. 0.48.\n",
        "\n",
        "### 2. Quantity and discount have very weak data correlation value i.e. 0.0086 "
      ]
    },
    {
      "cell_type": "code",
      "metadata": {
        "colab": {
          "base_uri": "https://localhost:8080/",
          "height": 367
        },
        "id": "NAvEp20hbLBi",
        "outputId": "6bb91547-7efe-4d03-f7ce-75c48261ec27"
      },
      "source": [
        "plt.figure(figsize=(15, 5))\n",
        "plt.subplot(1, 2, 1)\n",
        "plt.title('Profit vs Shipmode')\n",
        "sns.barplot(x='Ship Mode', y='Profit', data=data,palette='PuRd_r')\n",
        "plt.subplot(1, 2, 2)\n",
        "plt.title('Sales vs Shipmode')\n",
        "sns.barplot(x='Ship Mode', y='Sales', data=data,palette='gist_heat_r')"
      ],
      "execution_count": null,
      "outputs": [
        {
          "output_type": "execute_result",
          "data": {
            "text/plain": [
              "<matplotlib.axes._subplots.AxesSubplot at 0x7ffa9ab58e48>"
            ]
          },
          "metadata": {
            "tags": []
          },
          "execution_count": 52
        },
        {
          "output_type": "display_data",
          "data": {
            "image/png": "[encoded data removed]",
            "text/plain": [
              "<Figure size 1080x360 with 2 Axes>"
            ]
          },
          "metadata": {
            "tags": [],
            "needs_background": "light"
          }
        }
      ]
    },
    {
      "cell_type": "markdown",
      "metadata": {
        "id": "ypkEqwTsbUU1"
      },
      "source": [
        "*  **Ship mode doesn't effect Sales and Profit data.**"
      ]
    },
    {
      "cell_type": "code",
      "metadata": {
        "colab": {
          "base_uri": "https://localhost:8080/",
          "height": 437
        },
        "id": "2abLJ8PgbyjM",
        "outputId": "7b3d7ea7-1c87-4337-dca0-12a9d3d049b8"
      },
      "source": [
        "sns.catplot('Ship Mode',data=data,hue='Segment',kind='count',palette='afmhot',aspect=1.5,height=5)\n",
        "plt.show()"
      ],
      "execution_count": null,
      "outputs": [
        {
          "output_type": "stream",
          "text": [
            "/usr/local/lib/python3.6/dist-packages/seaborn/_decorators.py:43: FutureWarning: Pass the following variable as a keyword arg: x. From version 0.12, the only valid positional argument will be `data`, and passing other arguments without an explicit keyword will result in an error or misinterpretation.\n",
            "  FutureWarning\n"
          ],
          "name": "stderr"
        },
        {
          "output_type": "display_data",
          "data": {
            "image/png": "[encoded data removed]",
            "text/plain": [
              "<Figure size 637.875x360 with 1 Axes>"
            ]
          },
          "metadata": {
            "tags": [],
            "needs_background": "light"
          }
        }
      ]
    },
    {
      "cell_type": "markdown",
      "metadata": {
        "id": "9mPX0TbQcITV"
      },
      "source": [
        "## **Sales Vs Category**"
      ]
    },
    {
      "cell_type": "code",
      "metadata": {
        "colab": {
          "base_uri": "https://localhost:8080/",
          "height": 367
        },
        "id": "dUWHtY1OcMj5",
        "outputId": "7f568946-e7c2-46c0-f598-01632438e920"
      },
      "source": [
        "plt.figure(figsize=(15, 5))\n",
        "plt.subplot(1, 2, 1)\n",
        "plt.title('Sales vs Category')\n",
        "sns.barplot(x='Category', y='Sales', data=data,palette='ocean')"
      ],
      "execution_count": null,
      "outputs": [
        {
          "output_type": "execute_result",
          "data": {
            "text/plain": [
              "<matplotlib.axes._subplots.AxesSubplot at 0x7ffa9aada668>"
            ]
          },
          "metadata": {
            "tags": []
          },
          "execution_count": 54
        },
        {
          "output_type": "display_data",
          "data": {
            "image/png": "[encoded data removed]",
            "text/plain": [
              "<Figure size 1080x360 with 1 Axes>"
            ]
          },
          "metadata": {
            "tags": [],
            "needs_background": "light"
          }
        }
      ]
    },
    {
      "cell_type": "markdown",
      "metadata": {
        "id": "kUpJ6RYIcZds"
      },
      "source": [
        "## **Category Vs Profit Vs Sub-Category**"
      ]
    },
    {
      "cell_type": "code",
      "metadata": {
        "colab": {
          "base_uri": "https://localhost:8080/",
          "height": 367
        },
        "id": "Jljtujw1cmJZ",
        "outputId": "d4d10fba-e02a-4496-8670-de5b593c1ad4"
      },
      "source": [
        "plt.figure(figsize=(15, 5))\n",
        "plt.subplot(1,2,1)\n",
        "plt.title('Category vs Profit')\n",
        "sns.barplot(x='Category', y='Profit', data=data,palette='cubehelix_r')"
      ],
      "execution_count": null,
      "outputs": [
        {
          "output_type": "execute_result",
          "data": {
            "text/plain": [
              "<matplotlib.axes._subplots.AxesSubplot at 0x7ffa9a9f2d68>"
            ]
          },
          "metadata": {
            "tags": []
          },
          "execution_count": 55
        },
        {
          "output_type": "display_data",
          "data": {
            "image/png": "[encoded data removed]",
            "text/plain": [
              "<Figure size 1080x360 with 1 Axes>"
            ]
          },
          "metadata": {
            "tags": [],
            "needs_background": "light"
          }
        }
      ]
    },
    {
      "cell_type": "code",
      "metadata": {
        "colab": {
          "base_uri": "https://localhost:8080/",
          "height": 939
        },
        "id": "jAccqO6ipAVd",
        "outputId": "2c20aab4-6671-49e8-cd5e-36ece54ba99f"
      },
      "source": [
        "plt.figure(figsize=(30,10))\n",
        "plt.subplot(1, 2, 2)\n",
        "plt.title('Sub-Category vs Profit')\n",
        "pic=sns.barplot(x=data['Sub-Category'],y=data['Profit'],palette='plasma')\n",
        "pic.set_xticklabels(pic.get_xticklabels(),rotation=30,ha='right')"
      ],
      "execution_count": null,
      "outputs": [
        {
          "output_type": "execute_result",
          "data": {
            "text/plain": [
              "[Text(0, 0, 'Bookcases'),\n",
              " Text(0, 0, 'Chairs'),\n",
              " Text(0, 0, 'Labels'),\n",
              " Text(0, 0, 'Tables'),\n",
              " Text(0, 0, 'Storage'),\n",
              " Text(0, 0, 'Furnishings'),\n",
              " Text(0, 0, 'Art'),\n",
              " Text(0, 0, 'Phones'),\n",
              " Text(0, 0, 'Binders'),\n",
              " Text(0, 0, 'Appliances'),\n",
              " Text(0, 0, 'Paper'),\n",
              " Text(0, 0, 'Accessories'),\n",
              " Text(0, 0, 'Envelopes'),\n",
              " Text(0, 0, 'Fasteners'),\n",
              " Text(0, 0, 'Supplies'),\n",
              " Text(0, 0, 'Machines'),\n",
              " Text(0, 0, 'Copiers')]"
            ]
          },
          "metadata": {
            "tags": []
          },
          "execution_count": 56
        },
        {
          "output_type": "display_data",
          "data": {
            "image/png": "[encoded data removed]",
            "text/plain": [
              "<Figure size 2160x720 with 1 Axes>"
            ]
          },
          "metadata": {
            "tags": [],
            "needs_background": "light"
          }
        }
      ]
    },
    {
      "cell_type": "markdown",
      "metadata": {
        "id": "jkg2H5gmc47W"
      },
      "source": [
        "### **Histogram Plot**"
      ]
    },
    {
      "cell_type": "code",
      "metadata": {
        "colab": {
          "base_uri": "https://localhost:8080/",
          "height": 618
        },
        "id": "4NpXKaVnc8AI",
        "outputId": "9b0f8aad-872f-4806-dbde-5f658713710a"
      },
      "source": [
        "data.hist(figsize=(12,8))"
      ],
      "execution_count": null,
      "outputs": [
        {
          "output_type": "execute_result",
          "data": {
            "text/plain": [
              "array([[<matplotlib.axes._subplots.AxesSubplot object at 0x7ffa9c0bc860>,\n",
              "        <matplotlib.axes._subplots.AxesSubplot object at 0x7ffa9a8da978>],\n",
              "       [<matplotlib.axes._subplots.AxesSubplot object at 0x7ffa9a88bbe0>,\n",
              "        <matplotlib.axes._subplots.AxesSubplot object at 0x7ffa9a842e48>],\n",
              "       [<matplotlib.axes._subplots.AxesSubplot object at 0x7ffa9a8040f0>,\n",
              "        <matplotlib.axes._subplots.AxesSubplot object at 0x7ffa9a7b6358>]],\n",
              "      dtype=object)"
            ]
          },
          "metadata": {
            "tags": []
          },
          "execution_count": 57
        },
        {
          "output_type": "display_data",
          "data": {
            "image/png": "[encoded data removed]",
            "text/plain": [
              "<Figure size 864x576 with 6 Axes>"
            ]
          },
          "metadata": {
            "tags": [],
            "needs_background": "light"
          }
        }
      ]
    },
    {
      "cell_type": "code",
      "metadata": {
        "colab": {
          "base_uri": "https://localhost:8080/"
        },
        "id": "MNDmKXs9dDV2",
        "outputId": "54c5ff76-f765-453e-ab3b-a42c521f906d"
      },
      "source": [
        "data['City']"
      ],
      "execution_count": null,
      "outputs": [
        {
          "output_type": "execute_result",
          "data": {
            "text/plain": [
              "0             Henderson\n",
              "1             Henderson\n",
              "2           Los Angeles\n",
              "3       Fort Lauderdale\n",
              "4       Fort Lauderdale\n",
              "             ...       \n",
              "9989              Miami\n",
              "9990         Costa Mesa\n",
              "9991         Costa Mesa\n",
              "9992         Costa Mesa\n",
              "9993        Westminster\n",
              "Name: City, Length: 9994, dtype: object"
            ]
          },
          "metadata": {
            "tags": []
          },
          "execution_count": 58
        }
      ]
    },
    {
      "cell_type": "markdown",
      "metadata": {
        "id": "GX2E0-nSdHyH"
      },
      "source": [
        "### **Sales Vs Profit Analysis**"
      ]
    },
    {
      "cell_type": "code",
      "metadata": {
        "colab": {
          "base_uri": "https://localhost:8080/",
          "height": 513
        },
        "id": "3plqQ9qadL5o",
        "outputId": "aca64bfe-2083-404f-fa98-1abc8343a78e"
      },
      "source": [
        "plt.subplots(figsize=(10,8))\n",
        "ax=sns.scatterplot(y=data['Profit'],x=data['Sales'],color='purple')\n",
        "plt.title('SALES VS PROFIT')\n",
        "plt.show()"
      ],
      "execution_count": null,
      "outputs": [
        {
          "output_type": "display_data",
          "data": {
            "image/png": "[encoded data removed]",
            "text/plain": [
              "<Figure size 720x576 with 1 Axes>"
            ]
          },
          "metadata": {
            "tags": [],
            "needs_background": "light"
          }
        }
      ]
    },
    {
      "cell_type": "markdown",
      "metadata": {
        "id": "gb1Ss8lvdTB6"
      },
      "source": [
        "*   Here most of all cases, Profits are directly proportional to the sales.\n",
        "*   At the range between 0-10000, at some points , we see some losses. But after 10000, approximately in 85% cases, profits are occured.\n",
        "\n"
      ]
    },
    {
      "cell_type": "markdown",
      "metadata": {
        "id": "7O9AOINDdnmQ"
      },
      "source": [
        "## **According to Sales and Profit , Which city is the best?**"
      ]
    },
    {
      "cell_type": "code",
      "metadata": {
        "colab": {
          "base_uri": "https://localhost:8080/",
          "height": 450
        },
        "id": "GeVyiBL1dtuB",
        "outputId": "5b2db299-ae1b-4d3d-879a-caf6ed83c74a"
      },
      "source": [
        "df= data.groupby(['City'], sort=True).sum()\n",
        "df"
      ],
      "execution_count": null,
      "outputs": [
        {
          "output_type": "execute_result",
          "data": {
            "text/html": [
              "<div>\n",
              "<style scoped>\n",
              "    .dataframe tbody tr th:only-of-type {\n",
              "        vertical-align: middle;\n",
              "    }\n",
              "\n",
              "    .dataframe tbody tr th {\n",
              "        vertical-align: top;\n",
              "    }\n",
              "\n",
              "    .dataframe thead th {\n",
              "        text-align: right;\n",
              "    }\n",
              "</style>\n",
              "<table border=\"1\" class=\"dataframe\">\n",
              "  <thead>\n",
              "    <tr style=\"text-align: right;\">\n",
              "      <th></th>\n",
              "      <th>Postal Code</th>\n",
              "      <th>Sales</th>\n",
              "      <th>Quantity</th>\n",
              "      <th>Discount</th>\n",
              "      <th>Profit</th>\n",
              "    </tr>\n",
              "    <tr>\n",
              "      <th>City</th>\n",
              "      <th></th>\n",
              "      <th></th>\n",
              "      <th></th>\n",
              "      <th></th>\n",
              "      <th></th>\n",
              "    </tr>\n",
              "  </thead>\n",
              "  <tbody>\n",
              "    <tr>\n",
              "      <th>Aberdeen</th>\n",
              "      <td>57401</td>\n",
              "      <td>25.500</td>\n",
              "      <td>3</td>\n",
              "      <td>0.0</td>\n",
              "      <td>6.6300</td>\n",
              "    </tr>\n",
              "    <tr>\n",
              "      <th>Abilene</th>\n",
              "      <td>79605</td>\n",
              "      <td>1.392</td>\n",
              "      <td>2</td>\n",
              "      <td>0.8</td>\n",
              "      <td>-3.7584</td>\n",
              "    </tr>\n",
              "    <tr>\n",
              "      <th>Akron</th>\n",
              "      <td>930552</td>\n",
              "      <td>2729.986</td>\n",
              "      <td>65</td>\n",
              "      <td>7.5</td>\n",
              "      <td>-186.6356</td>\n",
              "    </tr>\n",
              "    <tr>\n",
              "      <th>Albuquerque</th>\n",
              "      <td>1219470</td>\n",
              "      <td>2220.160</td>\n",
              "      <td>65</td>\n",
              "      <td>0.8</td>\n",
              "      <td>634.0881</td>\n",
              "    </tr>\n",
              "    <tr>\n",
              "      <th>Alexandria</th>\n",
              "      <td>356864</td>\n",
              "      <td>5519.570</td>\n",
              "      <td>84</td>\n",
              "      <td>0.0</td>\n",
              "      <td>318.6183</td>\n",
              "    </tr>\n",
              "    <tr>\n",
              "      <th>...</th>\n",
              "      <td>...</td>\n",
              "      <td>...</td>\n",
              "      <td>...</td>\n",
              "      <td>...</td>\n",
              "      <td>...</td>\n",
              "    </tr>\n",
              "    <tr>\n",
              "      <th>Woonsocket</th>\n",
              "      <td>11580</td>\n",
              "      <td>195.550</td>\n",
              "      <td>15</td>\n",
              "      <td>0.0</td>\n",
              "      <td>78.6791</td>\n",
              "    </tr>\n",
              "    <tr>\n",
              "      <th>Yonkers</th>\n",
              "      <td>160515</td>\n",
              "      <td>7657.666</td>\n",
              "      <td>57</td>\n",
              "      <td>1.0</td>\n",
              "      <td>2767.7557</td>\n",
              "    </tr>\n",
              "    <tr>\n",
              "      <th>York</th>\n",
              "      <td>87015</td>\n",
              "      <td>817.978</td>\n",
              "      <td>19</td>\n",
              "      <td>2.1</td>\n",
              "      <td>-102.1692</td>\n",
              "    </tr>\n",
              "    <tr>\n",
              "      <th>Yucaipa</th>\n",
              "      <td>92399</td>\n",
              "      <td>50.800</td>\n",
              "      <td>5</td>\n",
              "      <td>0.0</td>\n",
              "      <td>13.2080</td>\n",
              "    </tr>\n",
              "    <tr>\n",
              "      <th>Yuma</th>\n",
              "      <td>341456</td>\n",
              "      <td>840.865</td>\n",
              "      <td>22</td>\n",
              "      <td>1.8</td>\n",
              "      <td>-465.9909</td>\n",
              "    </tr>\n",
              "  </tbody>\n",
              "</table>\n",
              "<p>531 rows × 5 columns</p>\n",
              "</div>"
            ],
            "text/plain": [
              "             Postal Code     Sales  Quantity  Discount     Profit\n",
              "City                                                             \n",
              "Aberdeen           57401    25.500         3       0.0     6.6300\n",
              "Abilene            79605     1.392         2       0.8    -3.7584\n",
              "Akron             930552  2729.986        65       7.5  -186.6356\n",
              "Albuquerque      1219470  2220.160        65       0.8   634.0881\n",
              "Alexandria        356864  5519.570        84       0.0   318.6183\n",
              "...                  ...       ...       ...       ...        ...\n",
              "Woonsocket         11580   195.550        15       0.0    78.6791\n",
              "Yonkers           160515  7657.666        57       1.0  2767.7557\n",
              "York               87015   817.978        19       2.1  -102.1692\n",
              "Yucaipa            92399    50.800         5       0.0    13.2080\n",
              "Yuma              341456   840.865        22       1.8  -465.9909\n",
              "\n",
              "[531 rows x 5 columns]"
            ]
          },
          "metadata": {
            "tags": []
          },
          "execution_count": 60
        }
      ]
    },
    {
      "cell_type": "code",
      "metadata": {
        "colab": {
          "base_uri": "https://localhost:8080/",
          "height": 390
        },
        "id": "lMo1MjDoeVGZ",
        "outputId": "392481e7-13d9-4303-a165-d94970b498d0"
      },
      "source": [
        "df = df[['Sales', 'Profit']]\n",
        "df.sort_values(by='Sales', ascending=False).head(10)"
      ],
      "execution_count": null,
      "outputs": [
        {
          "output_type": "execute_result",
          "data": {
            "text/html": [
              "<div>\n",
              "<style scoped>\n",
              "    .dataframe tbody tr th:only-of-type {\n",
              "        vertical-align: middle;\n",
              "    }\n",
              "\n",
              "    .dataframe tbody tr th {\n",
              "        vertical-align: top;\n",
              "    }\n",
              "\n",
              "    .dataframe thead th {\n",
              "        text-align: right;\n",
              "    }\n",
              "</style>\n",
              "<table border=\"1\" class=\"dataframe\">\n",
              "  <thead>\n",
              "    <tr style=\"text-align: right;\">\n",
              "      <th></th>\n",
              "      <th>Sales</th>\n",
              "      <th>Profit</th>\n",
              "    </tr>\n",
              "    <tr>\n",
              "      <th>City</th>\n",
              "      <th></th>\n",
              "      <th></th>\n",
              "    </tr>\n",
              "  </thead>\n",
              "  <tbody>\n",
              "    <tr>\n",
              "      <th>New York City</th>\n",
              "      <td>256368.1610</td>\n",
              "      <td>62036.9837</td>\n",
              "    </tr>\n",
              "    <tr>\n",
              "      <th>Los Angeles</th>\n",
              "      <td>175851.3410</td>\n",
              "      <td>30440.7579</td>\n",
              "    </tr>\n",
              "    <tr>\n",
              "      <th>Seattle</th>\n",
              "      <td>119540.7420</td>\n",
              "      <td>29156.0967</td>\n",
              "    </tr>\n",
              "    <tr>\n",
              "      <th>San Francisco</th>\n",
              "      <td>112669.0920</td>\n",
              "      <td>17507.3854</td>\n",
              "    </tr>\n",
              "    <tr>\n",
              "      <th>Philadelphia</th>\n",
              "      <td>109077.0130</td>\n",
              "      <td>-13837.7674</td>\n",
              "    </tr>\n",
              "    <tr>\n",
              "      <th>Houston</th>\n",
              "      <td>64504.7604</td>\n",
              "      <td>-10153.5485</td>\n",
              "    </tr>\n",
              "    <tr>\n",
              "      <th>Chicago</th>\n",
              "      <td>48539.5410</td>\n",
              "      <td>-6654.5688</td>\n",
              "    </tr>\n",
              "    <tr>\n",
              "      <th>San Diego</th>\n",
              "      <td>47521.0290</td>\n",
              "      <td>6377.1960</td>\n",
              "    </tr>\n",
              "    <tr>\n",
              "      <th>Jacksonville</th>\n",
              "      <td>44713.1830</td>\n",
              "      <td>-2323.8350</td>\n",
              "    </tr>\n",
              "    <tr>\n",
              "      <th>Springfield</th>\n",
              "      <td>43054.3420</td>\n",
              "      <td>6200.6974</td>\n",
              "    </tr>\n",
              "  </tbody>\n",
              "</table>\n",
              "</div>"
            ],
            "text/plain": [
              "                     Sales      Profit\n",
              "City                                  \n",
              "New York City  256368.1610  62036.9837\n",
              "Los Angeles    175851.3410  30440.7579\n",
              "Seattle        119540.7420  29156.0967\n",
              "San Francisco  112669.0920  17507.3854\n",
              "Philadelphia   109077.0130 -13837.7674\n",
              "Houston         64504.7604 -10153.5485\n",
              "Chicago         48539.5410  -6654.5688\n",
              "San Diego       47521.0290   6377.1960\n",
              "Jacksonville    44713.1830  -2323.8350\n",
              "Springfield     43054.3420   6200.6974"
            ]
          },
          "metadata": {
            "tags": []
          },
          "execution_count": 61
        }
      ]
    },
    {
      "cell_type": "code",
      "metadata": {
        "colab": {
          "base_uri": "https://localhost:8080/",
          "height": 390
        },
        "id": "XtKKJTXXeaom",
        "outputId": "11279ba5-cc0d-4faf-fd9f-04eeaa09d386"
      },
      "source": [
        "df.sort_values(by='Profit', ascending=False).head(10)"
      ],
      "execution_count": null,
      "outputs": [
        {
          "output_type": "execute_result",
          "data": {
            "text/html": [
              "<div>\n",
              "<style scoped>\n",
              "    .dataframe tbody tr th:only-of-type {\n",
              "        vertical-align: middle;\n",
              "    }\n",
              "\n",
              "    .dataframe tbody tr th {\n",
              "        vertical-align: top;\n",
              "    }\n",
              "\n",
              "    .dataframe thead th {\n",
              "        text-align: right;\n",
              "    }\n",
              "</style>\n",
              "<table border=\"1\" class=\"dataframe\">\n",
              "  <thead>\n",
              "    <tr style=\"text-align: right;\">\n",
              "      <th></th>\n",
              "      <th>Sales</th>\n",
              "      <th>Profit</th>\n",
              "    </tr>\n",
              "    <tr>\n",
              "      <th>City</th>\n",
              "      <th></th>\n",
              "      <th></th>\n",
              "    </tr>\n",
              "  </thead>\n",
              "  <tbody>\n",
              "    <tr>\n",
              "      <th>New York City</th>\n",
              "      <td>256368.161</td>\n",
              "      <td>62036.9837</td>\n",
              "    </tr>\n",
              "    <tr>\n",
              "      <th>Los Angeles</th>\n",
              "      <td>175851.341</td>\n",
              "      <td>30440.7579</td>\n",
              "    </tr>\n",
              "    <tr>\n",
              "      <th>Seattle</th>\n",
              "      <td>119540.742</td>\n",
              "      <td>29156.0967</td>\n",
              "    </tr>\n",
              "    <tr>\n",
              "      <th>San Francisco</th>\n",
              "      <td>112669.092</td>\n",
              "      <td>17507.3854</td>\n",
              "    </tr>\n",
              "    <tr>\n",
              "      <th>Detroit</th>\n",
              "      <td>42446.944</td>\n",
              "      <td>13181.7908</td>\n",
              "    </tr>\n",
              "    <tr>\n",
              "      <th>Lafayette</th>\n",
              "      <td>25036.200</td>\n",
              "      <td>10018.3876</td>\n",
              "    </tr>\n",
              "    <tr>\n",
              "      <th>Jackson</th>\n",
              "      <td>24963.858</td>\n",
              "      <td>7581.6828</td>\n",
              "    </tr>\n",
              "    <tr>\n",
              "      <th>Atlanta</th>\n",
              "      <td>17197.840</td>\n",
              "      <td>6993.6629</td>\n",
              "    </tr>\n",
              "    <tr>\n",
              "      <th>Minneapolis</th>\n",
              "      <td>16870.540</td>\n",
              "      <td>6824.5846</td>\n",
              "    </tr>\n",
              "    <tr>\n",
              "      <th>San Diego</th>\n",
              "      <td>47521.029</td>\n",
              "      <td>6377.1960</td>\n",
              "    </tr>\n",
              "  </tbody>\n",
              "</table>\n",
              "</div>"
            ],
            "text/plain": [
              "                    Sales      Profit\n",
              "City                                 \n",
              "New York City  256368.161  62036.9837\n",
              "Los Angeles    175851.341  30440.7579\n",
              "Seattle        119540.742  29156.0967\n",
              "San Francisco  112669.092  17507.3854\n",
              "Detroit         42446.944  13181.7908\n",
              "Lafayette       25036.200  10018.3876\n",
              "Jackson         24963.858   7581.6828\n",
              "Atlanta         17197.840   6993.6629\n",
              "Minneapolis     16870.540   6824.5846\n",
              "San Diego       47521.029   6377.1960"
            ]
          },
          "metadata": {
            "tags": []
          },
          "execution_count": 62
        }
      ]
    },
    {
      "cell_type": "markdown",
      "metadata": {
        "id": "fIJRVF-yepxf"
      },
      "source": [
        "*  ### New York City gives maximum sales and profits.\n",
        "\n"
      ]
    },
    {
      "cell_type": "markdown",
      "metadata": {
        "id": "cFwwstNHe2Z_"
      },
      "source": [
        "# **According to Sales and Profit , Which state is the best?**"
      ]
    },
    {
      "cell_type": "code",
      "metadata": {
        "colab": {
          "base_uri": "https://localhost:8080/",
          "height": 235
        },
        "id": "RrtXLBZCe7S-",
        "outputId": "b9bd534a-fd31-4cac-87cc-78e5f5efcbf9"
      },
      "source": [
        "df1 = data.groupby(['State'], sort=True).sum()\n",
        "df1 = df1[['Sales', 'Profit']]\n",
        "df1.sort_values(by='Profit', ascending=False).head()"
      ],
      "execution_count": null,
      "outputs": [
        {
          "output_type": "execute_result",
          "data": {
            "text/html": [
              "<div>\n",
              "<style scoped>\n",
              "    .dataframe tbody tr th:only-of-type {\n",
              "        vertical-align: middle;\n",
              "    }\n",
              "\n",
              "    .dataframe tbody tr th {\n",
              "        vertical-align: top;\n",
              "    }\n",
              "\n",
              "    .dataframe thead th {\n",
              "        text-align: right;\n",
              "    }\n",
              "</style>\n",
              "<table border=\"1\" class=\"dataframe\">\n",
              "  <thead>\n",
              "    <tr style=\"text-align: right;\">\n",
              "      <th></th>\n",
              "      <th>Sales</th>\n",
              "      <th>Profit</th>\n",
              "    </tr>\n",
              "    <tr>\n",
              "      <th>State</th>\n",
              "      <th></th>\n",
              "      <th></th>\n",
              "    </tr>\n",
              "  </thead>\n",
              "  <tbody>\n",
              "    <tr>\n",
              "      <th>California</th>\n",
              "      <td>457687.6315</td>\n",
              "      <td>76381.3871</td>\n",
              "    </tr>\n",
              "    <tr>\n",
              "      <th>New York</th>\n",
              "      <td>310876.2710</td>\n",
              "      <td>74038.5486</td>\n",
              "    </tr>\n",
              "    <tr>\n",
              "      <th>Washington</th>\n",
              "      <td>138641.2700</td>\n",
              "      <td>33402.6517</td>\n",
              "    </tr>\n",
              "    <tr>\n",
              "      <th>Michigan</th>\n",
              "      <td>76269.6140</td>\n",
              "      <td>24463.1876</td>\n",
              "    </tr>\n",
              "    <tr>\n",
              "      <th>Virginia</th>\n",
              "      <td>70636.7200</td>\n",
              "      <td>18597.9504</td>\n",
              "    </tr>\n",
              "  </tbody>\n",
              "</table>\n",
              "</div>"
            ],
            "text/plain": [
              "                  Sales      Profit\n",
              "State                              \n",
              "California  457687.6315  76381.3871\n",
              "New York    310876.2710  74038.5486\n",
              "Washington  138641.2700  33402.6517\n",
              "Michigan     76269.6140  24463.1876\n",
              "Virginia     70636.7200  18597.9504"
            ]
          },
          "metadata": {
            "tags": []
          },
          "execution_count": 63
        }
      ]
    },
    {
      "cell_type": "markdown",
      "metadata": {
        "id": "7W6nzshOfO-l"
      },
      "source": [
        "*   ### State California gives maximum sales and profits.\n",
        "\n"
      ]
    },
    {
      "cell_type": "markdown",
      "metadata": {
        "id": "Bu6fWhDRnSx1"
      },
      "source": [
        "### **According to Sales and Profit , Which Part of Country is the best?**"
      ]
    },
    {
      "cell_type": "code",
      "metadata": {
        "colab": {
          "base_uri": "https://localhost:8080/",
          "height": 204
        },
        "id": "IAmDBMiYmBO-",
        "outputId": "50045059-4d0a-4f4a-cf8b-054ca1c10611"
      },
      "source": [
        "df2 = data[['Region', 'Sales', 'Profit']].groupby(['Region'], sort=True).sum()\n",
        "df2"
      ],
      "execution_count": null,
      "outputs": [
        {
          "output_type": "execute_result",
          "data": {
            "text/html": [
              "<div>\n",
              "<style scoped>\n",
              "    .dataframe tbody tr th:only-of-type {\n",
              "        vertical-align: middle;\n",
              "    }\n",
              "\n",
              "    .dataframe tbody tr th {\n",
              "        vertical-align: top;\n",
              "    }\n",
              "\n",
              "    .dataframe thead th {\n",
              "        text-align: right;\n",
              "    }\n",
              "</style>\n",
              "<table border=\"1\" class=\"dataframe\">\n",
              "  <thead>\n",
              "    <tr style=\"text-align: right;\">\n",
              "      <th></th>\n",
              "      <th>Sales</th>\n",
              "      <th>Profit</th>\n",
              "    </tr>\n",
              "    <tr>\n",
              "      <th>Region</th>\n",
              "      <th></th>\n",
              "      <th></th>\n",
              "    </tr>\n",
              "  </thead>\n",
              "  <tbody>\n",
              "    <tr>\n",
              "      <th>Central</th>\n",
              "      <td>501239.8908</td>\n",
              "      <td>39706.3625</td>\n",
              "    </tr>\n",
              "    <tr>\n",
              "      <th>East</th>\n",
              "      <td>678781.2400</td>\n",
              "      <td>91522.7800</td>\n",
              "    </tr>\n",
              "    <tr>\n",
              "      <th>South</th>\n",
              "      <td>391721.9050</td>\n",
              "      <td>46749.4303</td>\n",
              "    </tr>\n",
              "    <tr>\n",
              "      <th>West</th>\n",
              "      <td>725457.8245</td>\n",
              "      <td>108418.4489</td>\n",
              "    </tr>\n",
              "  </tbody>\n",
              "</table>\n",
              "</div>"
            ],
            "text/plain": [
              "               Sales       Profit\n",
              "Region                           \n",
              "Central  501239.8908   39706.3625\n",
              "East     678781.2400   91522.7800\n",
              "South    391721.9050   46749.4303\n",
              "West     725457.8245  108418.4489"
            ]
          },
          "metadata": {
            "tags": []
          },
          "execution_count": 64
        }
      ]
    },
    {
      "cell_type": "code",
      "metadata": {
        "colab": {
          "base_uri": "https://localhost:8080/",
          "height": 204
        },
        "id": "DYDVLEhInd0d",
        "outputId": "2e06dfce-77c5-4f99-a2dc-e4cbcf8e6c60"
      },
      "source": [
        "df2.sort_values(by='Profit', ascending=False).head()"
      ],
      "execution_count": null,
      "outputs": [
        {
          "output_type": "execute_result",
          "data": {
            "text/html": [
              "<div>\n",
              "<style scoped>\n",
              "    .dataframe tbody tr th:only-of-type {\n",
              "        vertical-align: middle;\n",
              "    }\n",
              "\n",
              "    .dataframe tbody tr th {\n",
              "        vertical-align: top;\n",
              "    }\n",
              "\n",
              "    .dataframe thead th {\n",
              "        text-align: right;\n",
              "    }\n",
              "</style>\n",
              "<table border=\"1\" class=\"dataframe\">\n",
              "  <thead>\n",
              "    <tr style=\"text-align: right;\">\n",
              "      <th></th>\n",
              "      <th>Sales</th>\n",
              "      <th>Profit</th>\n",
              "    </tr>\n",
              "    <tr>\n",
              "      <th>Region</th>\n",
              "      <th></th>\n",
              "      <th></th>\n",
              "    </tr>\n",
              "  </thead>\n",
              "  <tbody>\n",
              "    <tr>\n",
              "      <th>West</th>\n",
              "      <td>725457.8245</td>\n",
              "      <td>108418.4489</td>\n",
              "    </tr>\n",
              "    <tr>\n",
              "      <th>East</th>\n",
              "      <td>678781.2400</td>\n",
              "      <td>91522.7800</td>\n",
              "    </tr>\n",
              "    <tr>\n",
              "      <th>South</th>\n",
              "      <td>391721.9050</td>\n",
              "      <td>46749.4303</td>\n",
              "    </tr>\n",
              "    <tr>\n",
              "      <th>Central</th>\n",
              "      <td>501239.8908</td>\n",
              "      <td>39706.3625</td>\n",
              "    </tr>\n",
              "  </tbody>\n",
              "</table>\n",
              "</div>"
            ],
            "text/plain": [
              "               Sales       Profit\n",
              "Region                           \n",
              "West     725457.8245  108418.4489\n",
              "East     678781.2400   91522.7800\n",
              "South    391721.9050   46749.4303\n",
              "Central  501239.8908   39706.3625"
            ]
          },
          "metadata": {
            "tags": []
          },
          "execution_count": 65
        }
      ]
    },
    {
      "cell_type": "code",
      "metadata": {
        "colab": {
          "base_uri": "https://localhost:8080/",
          "height": 367
        },
        "id": "T-QdGUatnkAf",
        "outputId": "03d4ac4a-9658-46fd-f19d-af96dbc788f8"
      },
      "source": [
        "plt.figure(figsize=(15, 5))\n",
        "plt.subplot(1, 2, 1)\n",
        "plt.title('REGION VS SALES')\n",
        "sns.barplot(y=df2.index, x='Sales', data=df2,palette='viridis_r')\n",
        "plt.subplot(1, 2, 2)\n",
        "plt.title('REGION VS PROFIT')\n",
        "sns.barplot(y=df2.index, x='Profit', data=df2,palette='spring')"
      ],
      "execution_count": null,
      "outputs": [
        {
          "output_type": "execute_result",
          "data": {
            "text/plain": [
              "<matplotlib.axes._subplots.AxesSubplot at 0x7ffa9a5dec18>"
            ]
          },
          "metadata": {
            "tags": []
          },
          "execution_count": 66
        },
        {
          "output_type": "display_data",
          "data": {
            "image/png": "[encoded data removed]",
            "text/plain": [
              "<Figure size 1080x360 with 2 Axes>"
            ]
          },
          "metadata": {
            "tags": [],
            "needs_background": "light"
          }
        }
      ]
    },
    {
      "cell_type": "markdown",
      "metadata": {
        "id": "oqbl443KnpZx"
      },
      "source": [
        "*   # West Region gives maximum sales and profits.\n",
        "\n"
      ]
    },
    {
      "cell_type": "code",
      "metadata": {
        "colab": {
          "base_uri": "https://localhost:8080/",
          "height": 351
        },
        "id": "rm2BjIJ_nvFJ",
        "outputId": "6fcb2aac-5909-404c-ab19-7da17099abe7"
      },
      "source": [
        "plt.figure(figsize=(10, 5))\n",
        "sns.barplot(x='Category', y='Profit', hue='Region', data=data,palette='viridis')"
      ],
      "execution_count": null,
      "outputs": [
        {
          "output_type": "execute_result",
          "data": {
            "text/plain": [
              "<matplotlib.axes._subplots.AxesSubplot at 0x7ffa9a614390>"
            ]
          },
          "metadata": {
            "tags": []
          },
          "execution_count": 67
        },
        {
          "output_type": "display_data",
          "data": {
            "image/png": "[encoded data removed]",
            "text/plain": [
              "<Figure size 720x360 with 1 Axes>"
            ]
          },
          "metadata": {
            "tags": [],
            "needs_background": "light"
          }
        }
      ]
    },
    {
      "cell_type": "markdown",
      "metadata": {
        "id": "xWpZGtHMn5q8"
      },
      "source": [
        "### **Conclusion:**\n",
        "\n",
        "*   Sales and profit have good data correlation value i.e. 0.48.\n",
        "*   Quantity and discount have very weak data correlation value i.e. 0.0086 .\n",
        "*   Here most of all cases, Profits are directly proportional to the sales.\n",
        "*   At the range between 0-10000, at some points , we see some losses. But after 10000, approximately in 85% cases, profits are occured.\n",
        "*   Ship mode doesn't effect Sales and Profit data.\n",
        "*   New York City gives maximum sales and profits.\n",
        "*   State California gives maximum sales and profits.\n",
        "*   West Region gives maximum sales and profits.\n",
        "*   In central region Furniture faces loss."
      ]
    }
  ]
}